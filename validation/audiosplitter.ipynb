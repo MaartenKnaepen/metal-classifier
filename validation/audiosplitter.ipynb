{
 "cells": [
  {
   "cell_type": "code",
   "execution_count": 15,
   "metadata": {},
   "outputs": [],
   "source": [
    "import os\n",
    "from pytube import YouTube\n",
    "import ffmpeg\n"
   ]
  },
  {
   "cell_type": "code",
   "execution_count": 14,
   "metadata": {},
   "outputs": [
    {
     "name": "stdout",
     "output_type": "stream",
     "text": [
      "Loaded input file: c:\\Users\\MKnaepen\\Documents\\BeCode\\projects\\metal classifier\\data/full_audio\\track.mp3 (Duration: 242.323447 seconds)\n",
      "Written: split_1_track.mp3 (Duration: 30 seconds)\n",
      "Written: split_2_track.mp3 (Duration: 30 seconds)\n",
      "Written: split_3_track.mp3 (Duration: 30 seconds)\n",
      "Written: split_4_track.mp3 (Duration: 30 seconds)\n",
      "Written: split_5_track.mp3 (Duration: 30 seconds)\n",
      "Written: split_6_track.mp3 (Duration: 30 seconds)\n",
      "Written: split_7_track.mp3 (Duration: 30 seconds)\n",
      "Written: split_8_track.mp3 (Duration: 30 seconds)\n",
      "Written: split_9_track.mp3 (Duration: 30 seconds)\n"
     ]
    }
   ],
   "source": [
    "# Function to write audio segment to MP3 file\n",
    "def write_mp3(audio_segment, filename):\n",
    "    try:\n",
    "        audio_segment.output(filename, codec='libmp3lame', qscale=2).run()\n",
    "        print(f\"Written: {filename} (Duration: {audio_segment.duration:.3f} seconds)\")\n",
    "    except Exception as e:\n",
    "        print(f\"Error writing file {filename}: {e}\")\n",
    "\n",
    "# Download the audio stream from YouTube\n",
    "yt = YouTube('https://www.youtube.com/watch?v=gNhN6lT-y5U')\n",
    "audio_stream = yt.streams.filter(only_audio=True).first()\n",
    "file_name = audio_stream.download(output_path='data/full_audio', filename='track.mp3')\n",
    "\n",
    "# Load the downloaded audio file\n",
    "try:\n",
    "    audio_info = ffmpeg.probe(file_name)\n",
    "    duration_ms = float(audio_info['format']['duration']) * 1000\n",
    "    print(f\"Loaded input file: {file_name} (Duration: {audio_info['format']['duration']} seconds)\")\n",
    "except Exception as e:\n",
    "    print(f\"Error loading file {file_name}: {e}\")\n",
    "    exit(1)\n",
    "\n",
    "# Set the buffer size for each segment (30 seconds)\n",
    "buffer_ms = 30 * 1000  # 30 seconds in milliseconds\n",
    "\n",
    "# Output directory for split audio segments\n",
    "output_directory = \"data/full_audio/30_sec_splits/\"\n",
    "os.makedirs(output_directory, exist_ok=True)\n",
    "\n",
    "# Initialize counters\n",
    "counter = 1\n",
    "\n",
    "while duration_ms > 0:\n",
    "    try:\n",
    "        # Extract the audio segment\n",
    "        ffmpeg.input(file_name, ss=(counter - 1) * 30, t=30).output(os.path.join(output_directory, f\"split_{counter}_{os.path.basename(file_name)}\"), codec='libmp3lame', qscale=2).run(overwrite_output=True)\n",
    "        print(f\"Written: split_{counter}_{os.path.basename(file_name)} (Duration: 30 seconds)\")\n",
    "    except Exception as e:\n",
    "        print(f\"Error processing segment {counter}: {e}\")\n",
    "\n",
    "    # Update counters and duration\n",
    "    counter += 1\n",
    "    duration_ms -= buffer_ms\n"
   ]
  }
 ],
 "metadata": {
  "kernelspec": {
   "display_name": "venv",
   "language": "python",
   "name": "python3"
  },
  "language_info": {
   "codemirror_mode": {
    "name": "ipython",
    "version": 3
   },
   "file_extension": ".py",
   "mimetype": "text/x-python",
   "name": "python",
   "nbconvert_exporter": "python",
   "pygments_lexer": "ipython3",
   "version": "3.12.1"
  }
 },
 "nbformat": 4,
 "nbformat_minor": 2
}
