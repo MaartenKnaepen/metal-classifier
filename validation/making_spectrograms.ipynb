{
 "cells": [
  {
   "cell_type": "code",
   "execution_count": 1,
   "metadata": {},
   "outputs": [],
   "source": [
    "import os\n",
    "import librosa\n",
    "import numpy as np\n",
    "import skimage.io\n",
    "import concurrent.futures"
   ]
  },
  {
   "cell_type": "code",
   "execution_count": 2,
   "metadata": {},
   "outputs": [],
   "source": [
    "mp3_folder = \"data/full_audio/30_sec_splits\"\n",
    "spectrogram_folder = 'data/full_audio/30_sec_splits/spectrograms'\n",
    "\n",
    "def scale_minmax(X, min=0.0, max=255.0):\n",
    "    X_std = (X - X.min()) / (X.max() - X.min())\n",
    "    X_scaled = X_std * (max - min) + min\n",
    "    return X_scaled.astype(np.uint8)\n",
    "\n",
    "def process_file(file_name):\n",
    "    try:\n",
    "        # Load the MP3 file\n",
    "        y, sr = librosa.load(file_name)\n",
    "        \n",
    "        # Create the spectrogram\n",
    "        spect = librosa.feature.melspectrogram(y=y, sr=sr)\n",
    "        spect = np.log(spect + 1e-9)\n",
    "        spect = scale_minmax(spect)\n",
    "\n",
    "        # Check if spectrogram contains invalid values\n",
    "        if np.isnan(spect).any() or np.isinf(spect).any():\n",
    "            raise ValueError(\"Spectrogram contains invalid values.\")\n",
    "\n",
    "        # Flip spectrogram vertically\n",
    "        spect = np.flip(spect, axis=0)\n",
    "\n",
    "        # Invert colors for better visualization\n",
    "        spect = 255 - spect\n",
    "\n",
    "        # Get genre and original filename\n",
    "        genre, original_filename = os.path.split(file_name)\n",
    "        genre = os.path.basename(genre)\n",
    "\n",
    "        # Construct output directory\n",
    "        output_folder = os.path.join(spectrogram_folder, genre)\n",
    "        os.makedirs(output_folder, exist_ok=True)\n",
    "\n",
    "        # Construct output filename\n",
    "        output_filename = f\"{original_filename[:-4]}.png\"\n",
    "        output_path = os.path.join(output_folder, output_filename)\n",
    "\n",
    "        # Save spectrogram\n",
    "        skimage.io.imsave(output_path, spect)\n",
    "\n",
    "        # Global counter for tracking progress\n",
    "        global c\n",
    "        c += 1\n",
    "        if c % 1000 == 0:\n",
    "            print(f\"Processed {c} files\")\n",
    "\n",
    "    except Exception as e:\n",
    "        print(f\"Error processing {file_name}: {e}\")\n",
    "\n",
    "c = 0\n",
    "files = []\n",
    "for root, dirs, files_in_dir in os.walk(mp3_folder):\n",
    "    for file in files_in_dir:\n",
    "        if file.endswith(\".mp3\"):\n",
    "            files.append(os.path.join(root, file))\n",
    "\n",
    "with concurrent.futures.ThreadPoolExecutor(max_workers=18) as executor:\n",
    "    futures = [executor.submit(process_file, file_name) for file_name in files]\n",
    "    concurrent.futures.wait(futures)"
   ]
  }
 ],
 "metadata": {
  "kernelspec": {
   "display_name": "venv",
   "language": "python",
   "name": "python3"
  },
  "language_info": {
   "codemirror_mode": {
    "name": "ipython",
    "version": 3
   },
   "file_extension": ".py",
   "mimetype": "text/x-python",
   "name": "python",
   "nbconvert_exporter": "python",
   "pygments_lexer": "ipython3",
   "version": "3.12.1"
  }
 },
 "nbformat": 4,
 "nbformat_minor": 2
}
