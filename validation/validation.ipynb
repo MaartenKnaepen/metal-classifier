{
 "cells": [
  {
   "cell_type": "code",
   "execution_count": 1,
   "metadata": {},
   "outputs": [],
   "source": [
    "from youtube_search import YoutubeSearch\n",
    "import pandas as pd\n",
    "import numpy as np\n",
    "import main"
   ]
  },
  {
   "cell_type": "code",
   "execution_count": 3,
   "metadata": {},
   "outputs": [
    {
     "data": {
      "text/html": [
       "<div>\n",
       "<style scoped>\n",
       "    .dataframe tbody tr th:only-of-type {\n",
       "        vertical-align: middle;\n",
       "    }\n",
       "\n",
       "    .dataframe tbody tr th {\n",
       "        vertical-align: top;\n",
       "    }\n",
       "\n",
       "    .dataframe thead th {\n",
       "        text-align: right;\n",
       "    }\n",
       "</style>\n",
       "<table border=\"1\" class=\"dataframe\">\n",
       "  <thead>\n",
       "    <tr style=\"text-align: right;\">\n",
       "      <th></th>\n",
       "      <th>genre</th>\n",
       "      <th>band_name</th>\n",
       "      <th>album_name</th>\n",
       "      <th>album_id</th>\n",
       "      <th>track_title</th>\n",
       "      <th>track_id</th>\n",
       "      <th>preview_downloaded</th>\n",
       "    </tr>\n",
       "  </thead>\n",
       "  <tbody>\n",
       "    <tr>\n",
       "      <th>0</th>\n",
       "      <td>thrash metal</td>\n",
       "      <td>Metallica</td>\n",
       "      <td>72 Seasons</td>\n",
       "      <td>6UwjRSX9RQyNgJ3LwYhr9i</td>\n",
       "      <td>72 Seasons</td>\n",
       "      <td>3uSATa7xWXVJrMhJJSnGGk</td>\n",
       "      <td>N</td>\n",
       "    </tr>\n",
       "    <tr>\n",
       "      <th>1</th>\n",
       "      <td>thrash metal</td>\n",
       "      <td>Metallica</td>\n",
       "      <td>72 Seasons</td>\n",
       "      <td>6UwjRSX9RQyNgJ3LwYhr9i</td>\n",
       "      <td>Shadows Follow</td>\n",
       "      <td>5iG1GycXpheJ5xMW0gNvKv</td>\n",
       "      <td>N</td>\n",
       "    </tr>\n",
       "    <tr>\n",
       "      <th>2</th>\n",
       "      <td>thrash metal</td>\n",
       "      <td>Metallica</td>\n",
       "      <td>72 Seasons</td>\n",
       "      <td>6UwjRSX9RQyNgJ3LwYhr9i</td>\n",
       "      <td>Screaming Suicide</td>\n",
       "      <td>2hBn08QphNtdnhwDNtnZMg</td>\n",
       "      <td>N</td>\n",
       "    </tr>\n",
       "    <tr>\n",
       "      <th>3</th>\n",
       "      <td>thrash metal</td>\n",
       "      <td>Metallica</td>\n",
       "      <td>72 Seasons</td>\n",
       "      <td>6UwjRSX9RQyNgJ3LwYhr9i</td>\n",
       "      <td>Sleepwalk My Life Away</td>\n",
       "      <td>6HeYgpgqEo8SGis4dHwRbu</td>\n",
       "      <td>N</td>\n",
       "    </tr>\n",
       "    <tr>\n",
       "      <th>4</th>\n",
       "      <td>thrash metal</td>\n",
       "      <td>Metallica</td>\n",
       "      <td>72 Seasons</td>\n",
       "      <td>6UwjRSX9RQyNgJ3LwYhr9i</td>\n",
       "      <td>You Must Burn!</td>\n",
       "      <td>1ALXFmNr7lrTug2LAE989q</td>\n",
       "      <td>N</td>\n",
       "    </tr>\n",
       "  </tbody>\n",
       "</table>\n",
       "</div>"
      ],
      "text/plain": [
       "          genre  band_name  album_name                album_id  \\\n",
       "0  thrash metal  Metallica  72 Seasons  6UwjRSX9RQyNgJ3LwYhr9i   \n",
       "1  thrash metal  Metallica  72 Seasons  6UwjRSX9RQyNgJ3LwYhr9i   \n",
       "2  thrash metal  Metallica  72 Seasons  6UwjRSX9RQyNgJ3LwYhr9i   \n",
       "3  thrash metal  Metallica  72 Seasons  6UwjRSX9RQyNgJ3LwYhr9i   \n",
       "4  thrash metal  Metallica  72 Seasons  6UwjRSX9RQyNgJ3LwYhr9i   \n",
       "\n",
       "              track_title                track_id preview_downloaded  \n",
       "0              72 Seasons  3uSATa7xWXVJrMhJJSnGGk                  N  \n",
       "1          Shadows Follow  5iG1GycXpheJ5xMW0gNvKv                  N  \n",
       "2       Screaming Suicide  2hBn08QphNtdnhwDNtnZMg                  N  \n",
       "3  Sleepwalk My Life Away  6HeYgpgqEo8SGis4dHwRbu                  N  \n",
       "4          You Must Burn!  1ALXFmNr7lrTug2LAE989q                  N  "
      ]
     },
     "execution_count": 3,
     "metadata": {},
     "output_type": "execute_result"
    }
   ],
   "source": [
    "tracks = pd.read_csv('tracks.csv')\n",
    "tracks.head()"
   ]
  },
  {
   "cell_type": "code",
   "execution_count": 11,
   "metadata": {},
   "outputs": [
    {
     "name": "stdout",
     "output_type": "stream",
     "text": [
      "100 of 1200 tracks processed\n",
      "200 of 1200 tracks processed\n",
      "300 of 1200 tracks processed\n",
      "400 of 1200 tracks processed\n",
      "500 of 1200 tracks processed\n",
      "600 of 1200 tracks processed\n",
      "700 of 1200 tracks processed\n",
      "800 of 1200 tracks processed\n",
      "900 of 1200 tracks processed\n",
      "1000 of 1200 tracks processed\n",
      "1100 of 1200 tracks processed\n",
      "all tracks processed\n"
     ]
    }
   ],
   "source": [
    "genre_counts = tracks['genre'].value_counts()\n",
    "\n",
    "popular_genres = genre_counts[genre_counts > 10000].index.tolist()\n",
    "\n",
    "tracks10k = tracks[tracks['genre'].isin(popular_genres)]\n",
    "\n",
    "\n",
    "sampled_tracks = {}\n",
    "\n",
    "# Group by genre\n",
    "grouped = tracks10k.groupby('genre')\n",
    "\n",
    "# Iterate over each genre\n",
    "for genre, group_data in grouped:\n",
    "    # Select 100 random rows for each genre\n",
    "    sampled_tracks[genre] = group_data.sample(n=100, replace=False, random_state=42)\n",
    "\n",
    "# Concatenate the sampled rows for all genres\n",
    "sampled_tracks_df = pd.concat(sampled_tracks.values())\n",
    "c=0\n",
    "for index, row in sampled_tracks_df.iterrows():\n",
    "    # Perform YouTube search based on track title and band name\n",
    "    search_query = row['track_title'] + ' ' + row['band_name']\n",
    "    search_result = YoutubeSearch(search_query, max_results=1).to_dict()\n",
    "    \n",
    "    # Extract the 'url_suffix' from the search result\n",
    "    url_suffix = search_result[0]['url_suffix'] if search_result else None\n",
    "    if url_suffix is not None:\n",
    "        c += 1\n",
    "        if c % 100 == 0:\n",
    "            print(f'{c} of {sampled_tracks_df.shape[0]} tracks processed')\n",
    "    # Assign the url_suffix value to the 'youtube_url' column\n",
    "    sampled_tracks_df.at[index, 'youtube_url'] = url_suffix\n",
    "print('all tracks processed')\n",
    "sampled_tracks_df.to_csv('sampled_tracks.csv', index=False)"
   ]
  },
  {
   "cell_type": "code",
   "execution_count": 8,
   "metadata": {},
   "outputs": [],
   "source": [
    "with open('validation.csv', 'w', newline='', encoding='utf-8') as f:\n",
    "    f.write('genre|band_name|album_name|album_id|track_title|track_id|preview_downloaded|youtube_url|prediction\\n')\n",
    "    "
   ]
  },
  {
   "cell_type": "code",
   "execution_count": 4,
   "metadata": {},
   "outputs": [],
   "source": [
    "import pandas as pd\n",
    "import main  # Assuming main.py contains the main function\n",
    "\n",
    "sampled_tracks_df = pd.read_csv('sampled_tracks.csv')\n",
    "validation = pd.read_csv('validation.csv', delimiter='|')\n",
    "validated = set(validation['track_id'])\n",
    "\n",
    "\n",
    "# Iterate through each row\n",
    "with open('validation.csv', 'a', newline='', encoding='utf-8') as f:\n",
    "    for index, row in sampled_tracks_df.iterrows():\n",
    "        # Skip the row if the track has already been validated\n",
    "        if row['track_id'] in validated:\n",
    "            continue\n",
    "        else:\n",
    "            youtube_url = 'https://www.youtube.com/' + row['youtube_url']\n",
    "            prediction = main.main(youtube_url)\n",
    "            row['prediction'] = prediction\n",
    "            # Write the row to the CSV file\n",
    "            f.write('|'.join(map(str, row.values)) + '\\n')\n",
    "            f.flush()\n",
    "            "
   ]
  },
  {
   "cell_type": "code",
   "execution_count": 3,
   "metadata": {},
   "outputs": [
    {
     "data": {
      "text/plain": [
       "genre              success\n",
       "black metal        1          51\n",
       "                   0          49\n",
       "death metal        0          57\n",
       "                   1          43\n",
       "doom metal         1          50\n",
       "                   0          48\n",
       "folk metal         0          51\n",
       "                   1          48\n",
       "glam metal         1          68\n",
       "                   0          31\n",
       "grindcore          1          78\n",
       "                   0          20\n",
       "industrial metal   1          72\n",
       "                   0          28\n",
       "metalcore          1          50\n",
       "                   0          48\n",
       "nu metal           1          57\n",
       "                   0          40\n",
       "power metal        0          53\n",
       "                   1          47\n",
       "progressive metal  1          60\n",
       "                   0          38\n",
       "thrash metal       0          53\n",
       "                   1          47\n",
       "Name: count, dtype: int64"
      ]
     },
     "execution_count": 3,
     "metadata": {},
     "output_type": "execute_result"
    }
   ],
   "source": [
    "validation = pd.read_csv('validation.csv')\n",
    "validation['success'] = (validation['genre'] == validation['prediction']).astype(int)\n",
    "validation.groupby('genre')['success'].value_counts()"
   ]
  },
  {
   "cell_type": "code",
   "execution_count": 5,
   "metadata": {},
   "outputs": [
    {
     "data": {
      "text/plain": [
       "<Axes: xlabel='genre'>"
      ]
     },
     "execution_count": 5,
     "metadata": {},
     "output_type": "execute_result"
    },
    {
     "data": {
      "image/png": "[encoded data removed]",
      "text/plain": [
       "<Figure size 1000x600 with 1 Axes>"
      ]
     },
     "metadata": {},
     "output_type": "display_data"
    }
   ],
   "source": [
    "validation_failed = validation[validation['success'] == 0]\n",
    "validation_failed.to_csv('validation_failed.csv', index=False)\n",
    "validation.plot(kind='bar', x='genre', y='success', figsize=(10, 6), color='skyblue', edgecolor='black')"
   ]
  }
 ],
 "metadata": {
  "kernelspec": {
   "display_name": "venv",
   "language": "python",
   "name": "python3"
  },
  "language_info": {
   "codemirror_mode": {
    "name": "ipython",
    "version": 3
   },
   "file_extension": ".py",
   "mimetype": "text/x-python",
   "name": "python",
   "nbconvert_exporter": "python",
   "pygments_lexer": "ipython3",
   "version": "3.12.1"
  }
 },
 "nbformat": 4,
 "nbformat_minor": 2
}
