{
 "cells": [
  {
   "cell_type": "code",
   "execution_count": 3,
   "metadata": {},
   "outputs": [],
   "source": [
    "import os\n",
    "import spotipy\n",
    "from urllib.request import urlretrieve\n",
    "from spotipy.oauth2 import SpotifyClientCredentials\n",
    "import pandas as pd\n",
    "from concurrent.futures import ThreadPoolExecutor\n",
    "from time import sleep"
   ]
  },
  {
   "cell_type": "code",
   "execution_count": 2,
   "metadata": {},
   "outputs": [],
   "source": [
    "def spotify_login(cid, secret):\n",
    "    client_credentials_manager = SpotifyClientCredentials(client_id=cid, client_secret=secret) \n",
    "    return spotipy.Spotify(client_credentials_manager=client_credentials_manager)\n",
    "\n",
    "cid = \"\" \n",
    "secret = \"\"\n",
    "\n"
   ]
  },
  {
   "cell_type": "code",
   "execution_count": 4,
   "metadata": {},
   "outputs": [],
   "source": [
    "# Defining sub genres\n",
    "genre_list = [\"thrash metal\", \"death metal\", \"black metal\", \"grindcore\", \"melodic death metal\", \n",
    "          \"power metal\", \"metalcore\", \"deathcore\", \"nwobhm\", \"doom metal\", \n",
    "          \"nu metal\", \"folk metal\", \"blackgaze\", \"glam metal\", \"goregrind\", \n",
    "          \"industrial metal\", \"progressive metal\", \"djent\", \"sludge metal\",   \n",
    "          \"technical death metal\", \"funeral doom\", \"symphonic metal\", \"drone metal\", \n",
    "          \"slam death metal\", \"depressive black metal\"]\n",
    "\n",
    "exclusion_lists = {\n",
    "    'power metal': ['Accept', 'Amon Amarth', 'Children Of Bodom', 'Arch Enemy', 'Amorphis', 'Lordi', 'Equilibrium', 'Machinae Supremacy', 'Metal Church', 'Nevermore', 'X JAPAN', 'Queensrÿche', 'Stryper', 'Mafumafu', 'Dimmu Borgir', 'Imperial Circus Dead Decadence', 'Savatage', 'Saxon', 'Moonspell', \"Therion\", 'Armored Saint', 'Sanctuary', 'Manilla Road', 'Aldious', 'A Sound of Thunder', 'Asura', 'Bonfire', 'Bruce Dickinson', 'Civil War', 'Dark Sarah', 'Doro', 'Dust in Mind', 'ELFENSJóN', 'Fates Warning', 'Helstar', 'KAMIJO', 'Lizzy Borden', \"Mary's Blood\", 'Narnia', 'Persuader', 'Rage', 'Quiet Riot', 'The Murder of My Sweet','Unlucky Morpheus', 'U.D.O.', 'Finntroll', 'Elyose', 'Fates Warning', 'Fraser Edwards', 'Heavenly', 'Whitecross', 'Eluveitie'],\n",
    "    'black metal': ['Vader', 'Dystopia', 'Morbid Angel', 'Deicide', 'Entombed', 'Suffocation', 'Bloodbath', 'Gorguts', 'Bewitcher', 'Hypocrisy', 'Immolation', 'Inferi', 'Cryptopsy', 'Dismember', \"Therion\", 'Sarcófago', 'Asphyx', 'Unleashed', 'Vital Remains', 'Grave', 'Incantation', 'Sinister', 'Aara', 'Asunojokei', 'Craft', 'Deadlife', 'Grima'],\n",
    "    'thrash metal': ['Helloween', 'Iced Earth', 'Crimson Glory', 'Jag Panzer', 'Cirith Ungol', 'Vicious Rumors', 'Omen', 'Agent Steel', 'Immortal', 'Bathory', 'Venom', 'Possessed', 'Hellhammer', 'Deströyer 666', 'Wraith', 'Sadistik Exekution', 'Bewitcher', 'Cruel Force', 'Desaster', 'Dark Angel'],\n",
    "    'nu-metal': ['Lonewolf', 'Begotten', 'Megadeth', 'Slayer', 'Sepultura', 'Suicidal Tendencies', 'Anthrax', 'Cavalera Conspiracy']\n",
    "}"
   ]
  },
  {
   "cell_type": "code",
   "execution_count": 5,
   "metadata": {},
   "outputs": [],
   "source": [
    "def get_artists_by_genre(genre, limit=50, pages=10):\n",
    "    results = []\n",
    "\n",
    "    for i in range(pages):\n",
    "        results_page = sp.search(q=f'genre:\"{genre}\"', type='artist', limit=limit, offset=limit * i)\n",
    "        results += results_page['artists']['items']\n",
    "\n",
    "    return results"
   ]
  },
  {
   "cell_type": "code",
   "execution_count": 6,
   "metadata": {},
   "outputs": [
    {
     "ename": "NameError",
     "evalue": "name 'sp' is not defined",
     "output_type": "error",
     "traceback": [
      "\u001b[1;31m---------------------------------------------------------------------------\u001b[0m",
      "\u001b[1;31mNameError\u001b[0m                                 Traceback (most recent call last)",
      "Cell \u001b[1;32mIn[6], line 22\u001b[0m\n\u001b[0;32m     19\u001b[0m         os\u001b[38;5;241m.\u001b[39mmakedirs(output_dir)\n\u001b[0;32m     21\u001b[0m \u001b[38;5;28;01mfor\u001b[39;00m genre \u001b[38;5;129;01min\u001b[39;00m genre_list:\n\u001b[1;32m---> 22\u001b[0m     results \u001b[38;5;241m=\u001b[39m \u001b[43mget_artists_by_genre\u001b[49m\u001b[43m(\u001b[49m\u001b[43mgenre\u001b[49m\u001b[43m)\u001b[49m\n\u001b[0;32m     23\u001b[0m     genre_data[genre] \u001b[38;5;241m=\u001b[39m [artist[\u001b[38;5;124m'\u001b[39m\u001b[38;5;124mname\u001b[39m\u001b[38;5;124m'\u001b[39m] \u001b[38;5;28;01mfor\u001b[39;00m artist \u001b[38;5;129;01min\u001b[39;00m results \u001b[38;5;28;01mif\u001b[39;00m artist[\u001b[38;5;124m'\u001b[39m\u001b[38;5;124mname\u001b[39m\u001b[38;5;124m'\u001b[39m] \u001b[38;5;129;01mnot\u001b[39;00m \u001b[38;5;129;01min\u001b[39;00m exclusion_lists\u001b[38;5;241m.\u001b[39mget(genre, [])]\n\u001b[0;32m     25\u001b[0m \u001b[38;5;66;03m# Combine subgenres into main genre categories\u001b[39;00m\n",
      "Cell \u001b[1;32mIn[5], line 5\u001b[0m, in \u001b[0;36mget_artists_by_genre\u001b[1;34m(genre, limit, pages)\u001b[0m\n\u001b[0;32m      2\u001b[0m results \u001b[38;5;241m=\u001b[39m []\n\u001b[0;32m      4\u001b[0m \u001b[38;5;28;01mfor\u001b[39;00m i \u001b[38;5;129;01min\u001b[39;00m \u001b[38;5;28mrange\u001b[39m(pages):\n\u001b[1;32m----> 5\u001b[0m     results_page \u001b[38;5;241m=\u001b[39m \u001b[43msp\u001b[49m\u001b[38;5;241m.\u001b[39msearch(q\u001b[38;5;241m=\u001b[39m\u001b[38;5;124mf\u001b[39m\u001b[38;5;124m'\u001b[39m\u001b[38;5;124mgenre:\u001b[39m\u001b[38;5;124m\"\u001b[39m\u001b[38;5;132;01m{\u001b[39;00mgenre\u001b[38;5;132;01m}\u001b[39;00m\u001b[38;5;124m\"\u001b[39m\u001b[38;5;124m'\u001b[39m, \u001b[38;5;28mtype\u001b[39m\u001b[38;5;241m=\u001b[39m\u001b[38;5;124m'\u001b[39m\u001b[38;5;124martist\u001b[39m\u001b[38;5;124m'\u001b[39m, limit\u001b[38;5;241m=\u001b[39mlimit, offset\u001b[38;5;241m=\u001b[39mlimit \u001b[38;5;241m*\u001b[39m i)\n\u001b[0;32m      6\u001b[0m     results \u001b[38;5;241m+\u001b[39m\u001b[38;5;241m=\u001b[39m results_page[\u001b[38;5;124m'\u001b[39m\u001b[38;5;124martists\u001b[39m\u001b[38;5;124m'\u001b[39m][\u001b[38;5;124m'\u001b[39m\u001b[38;5;124mitems\u001b[39m\u001b[38;5;124m'\u001b[39m]\n\u001b[0;32m      8\u001b[0m \u001b[38;5;28;01mreturn\u001b[39;00m results\n",
      "\u001b[1;31mNameError\u001b[0m: name 'sp' is not defined"
     ]
    }
   ],
   "source": [
    "# Step 3: Create hierarchy for each subgenre\n",
    "\n",
    "genre_data = {}\n",
    "\n",
    "def combine_subgenres(genre_data):\n",
    "    combined_genre_data = {}\n",
    "    for genre, artists in genre_data.items():\n",
    "        if genre in ['melodic death metal', 'technical death metal', 'slam death metal']:\n",
    "            genre = 'death metal'\n",
    "        elif genre == 'depressive black metal':\n",
    "            genre = 'black metal'\n",
    "        combined_genre_data.setdefault(genre, []).extend(artists)\n",
    "    return combined_genre_data\n",
    "\n",
    "# Process genre data\n",
    "for subgenre in genre_list:\n",
    "    output_dir = os.path.join('data', subgenre.replace(' ', '_'))\n",
    "    if not os.path.exists(output_dir):\n",
    "        os.makedirs(output_dir)\n",
    "\n",
    "for genre in genre_list:\n",
    "    results = get_artists_by_genre(genre)\n",
    "    genre_data[genre] = [artist['name'] for artist in results if artist['name'] not in exclusion_lists.get(genre, [])]\n",
    "\n",
    "# Combine subgenres into main genre categories\n",
    "genre_data = combine_subgenres(genre_data)\n",
    "\n",
    "# Find the maximum length of the lists\n",
    "max_length = max(len(artists) for artists in genre_data.values())\n",
    "\n",
    "# Pad lists with empty strings to ensure they all have the same length\n",
    "for genre, artists in genre_data.items():\n",
    "    genre_data[genre] += [''] * (max_length - len(artists))\n",
    "\n",
    "# Create DataFrame\n",
    "df = pd.DataFrame(genre_data)\n",
    "display(df.head())\n",
    "print(df.shape)"
   ]
  },
  {
   "cell_type": "code",
   "execution_count": null,
   "metadata": {},
   "outputs": [],
   "source": [
    "df.to_csv('bands_by_genre.csv')"
   ]
  },
  {
   "cell_type": "code",
   "execution_count": 4,
   "metadata": {},
   "outputs": [],
   "source": [
    "import os\n",
    "from urllib.request import urlretrieve\n",
    "import pandas as pd\n",
    "\n",
    "def get_artist_info(artist, genre):\n",
    "    sp = spotify_login(cid, secret)\n",
    "    result = sp.search(artist, type='artist')\n",
    "    # Initialize an empty list to store track information\n",
    "    track_info_list = []\n",
    "\n",
    "    result = sp.search(artist, type='artist')\n",
    "    artist_id = result['artists']['items'][0]['id']\n",
    "\n",
    "    # Get albums of the artist\n",
    "    albums = sp.artist_albums(artist_id)\n",
    "\n",
    "    # Iterate through each album\n",
    "    for album in albums['items']:\n",
    "        album_name = album['name']\n",
    "\n",
    "        # Get tracks for each album\n",
    "        album_tracks = sp.album_tracks(album['id'])\n",
    "\n",
    "        # Iterate through each track\n",
    "        for track in album_tracks['items']:\n",
    "            track_name = track['name']\n",
    "            preview_url = track['preview_url']\n",
    "\n",
    "            # Get audio features for the track\n",
    "            audio_features = sp.audio_features(track['id'])[0]  # Assuming there's only one track per ID\n",
    "            if not audio_features:\n",
    "                continue  # Skip if no audio features are available\n",
    "\n",
    "            # Save preview track\n",
    "            if preview_url:\n",
    "                filename = f\"{artist}_{album_name}_{track_name}.mp3\"\n",
    "                filepath = os.path.join( filename)  # Save in the genre folder\n",
    "                urlretrieve(preview_url, filepath)\n",
    "\n",
    "            # Append track information to the list\n",
    "            track_info = {\n",
    "                'artist': artist,\n",
    "                'album': album_name,\n",
    "                'track': track_name,\n",
    "                'genre': genre,  # Add genre column\n",
    "                **audio_features  # Unpack audio_features dictionary into separate columns\n",
    "            }\n",
    "            track_info_list.append(track_info)\n",
    "\n",
    "    # Create DataFrame from the list of track information\n",
    "    df = pd.DataFrame(track_info_list)\n",
    "\n",
    "    return df\n",
    "get_artist_info('antzaat','black metal')\n"
   ]
  },
  {
   "cell_type": "code",
   "execution_count": 3,
   "metadata": {},
   "outputs": [],
   "source": [
    "def get_discography_info(data):\n",
    "    big_df = pd.DataFrame()  # Initialize an empty DataFrame to store all track information\n",
    "\n",
    "    with ThreadPoolExecutor() as executor:\n",
    "        futures = []  # List to store futures\n",
    "\n",
    "        # Iterate through each genre column\n",
    "        for genre, band_names in data.items():\n",
    "            # Create a folder for the current genre if it doesn't exist\n",
    "            genre_folder = os.path.join('data/audio_samples', genre)\n",
    "            os.makedirs(genre_folder, exist_ok=True)\n",
    "\n",
    "            # Iterate through each band name in the genre column\n",
    "            for band_name in band_names:\n",
    "                # Skip if band_name is null\n",
    "                if pd.isnull(band_name):\n",
    "                    continue\n",
    "\n",
    "                # Submitting a task to the executor to fetch track information for each band\n",
    "                future = executor.submit(get_artist_info, band_name, genre, genre_folder)\n",
    "                futures.append(future)\n",
    "\n",
    "        # Iterate through futures to get results\n",
    "        for future in futures:\n",
    "            df = future.result()  # Get the DataFrame for each band\n",
    "            big_df = pd.concat([big_df, df], ignore_index=True)  # Append to big DataFrame\n",
    "\n",
    "    return big_df\n"
   ]
  },
  {
   "cell_type": "code",
   "execution_count": 7,
   "metadata": {},
   "outputs": [
    {
     "name": "stderr",
     "output_type": "stream",
     "text": [
      "Max Retries reached\n",
      "Max Retries reached\n",
      "Max Retries reached\n",
      "Max Retries reached\n",
      "Max Retries reached\n",
      "Max Retries reached\n",
      "Max Retries reached\n",
      "Max Retries reached\n",
      "Max Retries reached\n",
      "Max Retries reached\n",
      "Max Retries reached\n",
      "Max Retries reached\n",
      "Max Retries reached\n",
      "Max Retries reached\n",
      "Max Retries reached\n",
      "Max Retries reached\n",
      "Max Retries reached\n",
      "Max Retries reached\n",
      "Max Retries reached\n",
      "Max Retries reached\n",
      "Max Retries reached\n",
      "Max Retries reached\n",
      "Max Retries reached\n",
      "Max Retries reached\n",
      "Max Retries reached\n",
      "Max Retries reached\n",
      "Max Retries reached\n",
      "Max Retries reached\n",
      "Max Retries reached\n"
     ]
    }
   ],
   "source": [
    "data = pd.read_csv('bands_by_genre.csv')\n",
    "data = data.iloc[:, 1:]\n",
    "\n",
    "\n",
    "get_discography_info(data)\n"
   ]
  }
 ],
 "metadata": {
  "kernelspec": {
   "display_name": "venv",
   "language": "python",
   "name": "python3"
  },
  "language_info": {
   "codemirror_mode": {
    "name": "ipython",
    "version": 3
   },
   "file_extension": ".py",
   "mimetype": "text/x-python",
   "name": "python",
   "nbconvert_exporter": "python",
   "pygments_lexer": "ipython3",
   "version": "3.12.1"
  }
 },
 "nbformat": 4,
 "nbformat_minor": 2
}
